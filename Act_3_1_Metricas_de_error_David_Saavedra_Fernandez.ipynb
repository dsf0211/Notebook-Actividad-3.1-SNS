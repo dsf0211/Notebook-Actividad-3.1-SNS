{
  "nbformat": 4,
  "nbformat_minor": 0,
  "metadata": {
    "colab": {
      "provenance": []
    },
    "kernelspec": {
      "name": "python3",
      "display_name": "Python 3"
    },
    "language_info": {
      "name": "python"
    }
  },
  "cells": [
    {
      "cell_type": "markdown",
      "source": [
        "# David Saavedra Fernández"
      ],
      "metadata": {
        "id": "U7nMY1yy5d6l"
      }
    },
    {
      "cell_type": "code",
      "source": [
        "from sklearn.metrics import mean_absolute_error, mean_squared_error, mean_absolute_percentage_error\n",
        "import numpy as np"
      ],
      "metadata": {
        "id": "g8ybJLr_BW59"
      },
      "execution_count": 18,
      "outputs": []
    },
    {
      "cell_type": "code",
      "execution_count": 9,
      "metadata": {
        "id": "sfWe5RwS4uLM"
      },
      "outputs": [],
      "source": [
        "# Ejer 1: Crear dos vectores/arrays de valores ciertos y valores previstos, y calcular el mae.\n",
        "# ¿Qué valores deberían de tener el array pred para que el error fuese 0? ¿y para que error fuese de 0.25?"
      ]
    },
    {
      "cell_type": "markdown",
      "source": [
        "Error 0: Cada valor predicho debe ser igual al valor real que esté ubicado en la misma posición en el otro vector."
      ],
      "metadata": {
        "id": "1xZIgyTr8jQ3"
      }
    },
    {
      "cell_type": "code",
      "source": [
        "# 0 / 4 = 0\n",
        "y_real = np.array([1, 2, 3, 4])\n",
        "y_pred = np.array([1, 2, 3, 4])\n",
        "\n",
        "mean_absolute_error(y_real, y_pred)"
      ],
      "metadata": {
        "colab": {
          "base_uri": "https://localhost:8080/"
        },
        "id": "SVNfshXs8adg",
        "outputId": "f8524540-5a47-4a0b-9c23-b4ab6375aa97"
      },
      "execution_count": 4,
      "outputs": [
        {
          "output_type": "execute_result",
          "data": {
            "text/plain": [
              "0.0"
            ]
          },
          "metadata": {},
          "execution_count": 4
        }
      ]
    },
    {
      "cell_type": "markdown",
      "source": [
        "Error 0.25: La suma de los errores debe ser equivalente a la cuarta parte del total de valores dentro del vector."
      ],
      "metadata": {
        "id": "qSX05W6o6kn1"
      }
    },
    {
      "cell_type": "code",
      "source": [
        "# 1 / 4 = 0.25\n",
        "y_real = np.array([1.5, 2, 3.5, 4])\n",
        "y_pred = np.array([1, 2, 3, 4])\n",
        "\n",
        "mean_absolute_error(y_real, y_pred)"
      ],
      "metadata": {
        "colab": {
          "base_uri": "https://localhost:8080/"
        },
        "id": "vMiso0pS8cnI",
        "outputId": "9563b452-c553-4c3d-a735-5d5f561c25e2"
      },
      "execution_count": 5,
      "outputs": [
        {
          "output_type": "execute_result",
          "data": {
            "text/plain": [
              "0.25"
            ]
          },
          "metadata": {},
          "execution_count": 5
        }
      ]
    },
    {
      "cell_type": "code",
      "source": [
        "# Ejer 2: Crear dos matrices/arrays de valores ciertos y valores previstos, y calcular el mae.\n",
        "# ¿Qué valores deberían de tener el array pred para que el error fuese 0? ¿y para que error fuese de 0.33?\n",
        "\n",
        "# 3 / 9 = 0.33\n",
        "y_real = np.array([1, 3, 3, 4, 5, 5, 7, 7, 9])\n",
        "y_pred = np.array([1, 2, 3, 4, 5, 6, 7, 8, 9])\n",
        "\n",
        "mean_absolute_error(y_real, y_pred)"
      ],
      "metadata": {
        "colab": {
          "base_uri": "https://localhost:8080/"
        },
        "id": "TTHOjpye9ZxS",
        "outputId": "15241413-bb21-4721-e24e-fcd139db3add"
      },
      "execution_count": 6,
      "outputs": [
        {
          "output_type": "execute_result",
          "data": {
            "text/plain": [
              "0.3333333333333333"
            ]
          },
          "metadata": {},
          "execution_count": 6
        }
      ]
    },
    {
      "cell_type": "code",
      "source": [
        "# Ejer 3: Crear dos vectores/arrays de valores ciertos y valores previstos, y calcular el mse.\n",
        "# ¿Qué valores deberían de tener el array pred para que el error fuese 0? ¿y para que error fuese de 0.25?\n",
        "# Nota: Es muy interesante comparar los resultados al aplicaer mae y mse sobre el mismo conjunto de datos. Podrás obervar\n",
        "#       que mse \"penaliza más\" (es decir, el número que se obtiene es mayor) con las diferencias entre los valores originales y los predichos que mae"
      ],
      "metadata": {
        "id": "wLaNdA6b_Q3T"
      },
      "execution_count": null,
      "outputs": []
    },
    {
      "cell_type": "code",
      "source": [
        "# 0 / 4 = 0\n",
        "y_real = np.array([5, 7, 1, 9])\n",
        "y_pred = np.array([5, 7, 1, 9])\n",
        "\n",
        "mean_squared_error(y_real, y_pred)"
      ],
      "metadata": {
        "colab": {
          "base_uri": "https://localhost:8080/"
        },
        "id": "eQIh69XX_0BD",
        "outputId": "478c5826-85bd-4e53-f972-dd94d9adb54b"
      },
      "execution_count": 11,
      "outputs": [
        {
          "output_type": "execute_result",
          "data": {
            "text/plain": [
              "0.0"
            ]
          },
          "metadata": {},
          "execution_count": 11
        }
      ]
    },
    {
      "cell_type": "code",
      "source": [
        "# (2 * 2 + 1 * 1) / 20 = 5 / 20 = 0.25\n",
        "y_real = np.array([7, 6, 1, 9, 5, 2, 3, 4, 8, 9, 10, 11, 12, 13, 14, 15, 16, 17, 18, 19])\n",
        "y_pred = np.array([5, 7, 1, 9, 5, 2, 3, 4, 8, 9, 10, 11, 12, 13, 14, 15, 16, 17, 18, 19])\n",
        "\n",
        "mean_squared_error(y_real, y_pred)"
      ],
      "metadata": {
        "colab": {
          "base_uri": "https://localhost:8080/"
        },
        "id": "aN3w23uABf0k",
        "outputId": "72e7e07a-169c-4adf-a226-1c80c2b62a99"
      },
      "execution_count": 12,
      "outputs": [
        {
          "output_type": "execute_result",
          "data": {
            "text/plain": [
              "0.25"
            ]
          },
          "metadata": {},
          "execution_count": 12
        }
      ]
    },
    {
      "cell_type": "code",
      "source": [
        "mean_absolute_error(y_real, y_pred)"
      ],
      "metadata": {
        "colab": {
          "base_uri": "https://localhost:8080/"
        },
        "id": "mt7tGOjLDU82",
        "outputId": "9669f446-e1c6-43f5-b1bd-d2829fbe29aa"
      },
      "execution_count": 13,
      "outputs": [
        {
          "output_type": "execute_result",
          "data": {
            "text/plain": [
              "0.15"
            ]
          },
          "metadata": {},
          "execution_count": 13
        }
      ]
    },
    {
      "cell_type": "markdown",
      "source": [
        "El error cuadrático medio penaliza más porque éste eleva al cuadrado cada error que se comete por cada pareja de valores."
      ],
      "metadata": {
        "id": "enIJXnz7Daf2"
      }
    },
    {
      "cell_type": "code",
      "source": [
        "# Ejer 5: Crear dos vectores/arrays de valores ciertos y valores previstos, y calcular el mape.\n",
        "# ¿Qué valores deberían de tener el array pred para que el error fuese 0?\n",
        "\n",
        "# ((1 - 1) / 1) + ((2 - 2) / 2)... / 4 = 0 / 4 = 0\n",
        "\n",
        "y_real = np.array([1, 2, 3, 4])\n",
        "y_pred = np.array([1, 2, 3, 4])\n",
        "\n",
        "mean_absolute_percentage_error(y_real, y_pred)"
      ],
      "metadata": {
        "colab": {
          "base_uri": "https://localhost:8080/"
        },
        "id": "mRs4YEqfEMjf",
        "outputId": "b368b3fe-00fd-499b-b95b-cee80e3ef726"
      },
      "execution_count": 23,
      "outputs": [
        {
          "output_type": "execute_result",
          "data": {
            "text/plain": [
              "0.0"
            ]
          },
          "metadata": {},
          "execution_count": 23
        }
      ]
    },
    {
      "cell_type": "markdown",
      "source": [
        "Cada valor predicho debe ser igual al valor real, nuevamente."
      ],
      "metadata": {
        "id": "KS4dzzVCJIZE"
      }
    }
  ]
}